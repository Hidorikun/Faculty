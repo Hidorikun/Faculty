{
 "cells": [
  {
   "cell_type": "code",
   "execution_count": null,
   "metadata": {},
   "outputs": [],
   "source": [
    "import re \n",
    "import tokenize"
   ]
  },
  {
   "cell_type": "code",
   "execution_count": null,
   "metadata": {},
   "outputs": [],
   "source": [
    "fileName = 'a.txt'"
   ]
  },
  {
   "cell_type": "code",
   "execution_count": null,
   "metadata": {},
   "outputs": [],
   "source": [
    "def hasQuoteOpen(token):\n",
    "    return token == '\"' or re.match(r'^\\\"', token) and not re.match(r'.*\\\"$', token) "
   ]
  },
  {
   "cell_type": "code",
   "execution_count": null,
   "metadata": {},
   "outputs": [],
   "source": [
    "def tokenGenerator(line, separators):\n",
    "    token = ''\n",
    "    for char in line: \n",
    "        if char not in separators or hasQuoteOpen(token):\n",
    "            token += char\n",
    "        else: \n",
    "            if token:\n",
    "                yield token \n",
    "                token = ''\n",
    "            yield char "
   ]
  },
  {
   "cell_type": "code",
   "execution_count": null,
   "metadata": {},
   "outputs": [],
   "source": [
    "separators = ['[', ']', '{', '}', '(', ')', ';', ' '] \n",
    "operators = ['+', '-', '*', '/', '<', '<=', '=', '>=', '>', '>>', '<<', '==', '&&', '||', '!']\n",
    "reservedWords = ['int', 'char', 'bool', 'float', 'array', 'struct', 'if', 'else', 'for', 'while', 'cout']\n",
    "\n",
    "everything = separators + operators + reservedWords\n",
    "codification = dict( [ [everything[i], i + 2] for i in range(len(everything))])\n",
    "codification['identifier'] = 0\n",
    "codification['constant'] = 1\n",
    "\n",
    "# codification"
   ]
  },
  {
   "cell_type": "code",
   "execution_count": null,
   "metadata": {},
   "outputs": [],
   "source": [
    "class SymbolTable():\n",
    "    def __init__(self):\n",
    "        self.__content = dict() \n",
    "        self.__count = -1\n",
    "        \n",
    "    def add(self, value):\n",
    "        self.__count += 1\n",
    "        self.__content[value] = self.__count \n",
    "        return self.__count \n",
    "    \n",
    "    def get(self, value):\n",
    "        return self.__conent[value]\n",
    "    \n",
    "    def __str__(self):\n",
    "        return str(self.__content)"
   ]
  },
  {
   "cell_type": "code",
   "execution_count": null,
   "metadata": {},
   "outputs": [],
   "source": [
    "class ProgramInternalForm: \n",
    "    def __init__(self):\n",
    "        self.__content = []\n",
    "        \n",
    "    def add(self, code, pos):\n",
    "        self.__content.append((code, pos))\n",
    "        \n",
    "    def __str__(self):\n",
    "        return str(self.__content)"
   ]
  },
  {
   "cell_type": "code",
   "execution_count": null,
   "metadata": {},
   "outputs": [],
   "source": [
    "def isIdentifier(token): \n",
    "    return re.match(r'^[a-zA-Z]([a-zA-Z]|[0-9]|_){,8}$', token) is not None"
   ]
  },
  {
   "cell_type": "code",
   "execution_count": null,
   "metadata": {},
   "outputs": [],
   "source": [
    "def isConstant(token):\n",
    "    return re.match('^(0|[\\+\\-]?[1-9][0-9]*)$|^\\'.\\'$|^\\\".*\\\"$', token) is not None"
   ]
  },
  {
   "cell_type": "code",
   "execution_count": null,
   "metadata": {
    "scrolled": false
   },
   "outputs": [],
   "source": [
    "file = open(fileName, 'r')\n",
    "for line in file: \n",
    "    print(line)"
   ]
  },
  {
   "cell_type": "code",
   "execution_count": null,
   "metadata": {},
   "outputs": [],
   "source": [
    "with open(fileName, 'r') as file: \n",
    "    for line in file: \n",
    "        print([token for token in tokenGenerator(line, separators)])"
   ]
  },
  {
   "cell_type": "code",
   "execution_count": null,
   "metadata": {},
   "outputs": [],
   "source": [
    "identifierTable = SymbolTable()\n",
    "constantsTable = SymbolTable()\n",
    "pif = ProgramInternalForm()\n",
    "\n",
    "with open(fileName, 'r') as file: \n",
    "    lineNo = 0\n",
    "    for line in file:\n",
    "        lineNo += 1 \n",
    "        for token in tokenGenerator(line, separators):  \n",
    "            if token in separators + operators + reservedWords: \n",
    "                pif.add(codification[token], -1)\n",
    "            elif isIdentifier(token): \n",
    "                pos = identifierTable.add(token)\n",
    "                pif.add(codification['identifier'], pos)\n",
    "            elif isConstant(token): \n",
    "                pos = constantsTable.add(token)\n",
    "                pif.add(codification['constant'], pos)\n",
    "            else: \n",
    "                raise Exception('Unknown token ' + token + ' at line ' + str(lineNo)) \n",
    "                \n",
    "print('Program Internal Form: \\n', pif)\n",
    "print('Identifier Table: \\n', identifierTable) \n",
    "print('Constants Table: \\n', constantsTable)"
   ]
  }
 ],
 "metadata": {
  "kernelspec": {
   "display_name": "Python 3",
   "language": "python",
   "name": "python3"
  },
  "language_info": {
   "codemirror_mode": {
    "name": "ipython",
    "version": 3
   },
   "file_extension": ".py",
   "mimetype": "text/x-python",
   "name": "python",
   "nbconvert_exporter": "python",
   "pygments_lexer": "ipython3",
   "version": "3.6.4"
  }
 },
 "nbformat": 4,
 "nbformat_minor": 2
}
