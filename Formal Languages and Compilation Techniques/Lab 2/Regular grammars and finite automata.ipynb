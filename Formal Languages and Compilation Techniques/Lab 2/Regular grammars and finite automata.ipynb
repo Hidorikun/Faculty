{
 "cells": [
  {
   "cell_type": "markdown",
   "metadata": {},
   "source": [
    "# Regular Grammars and Finite Automata"
   ]
  },
  {
   "cell_type": "markdown",
   "metadata": {},
   "source": [
    "### Definitions"
   ]
  },
  {
   "cell_type": "markdown",
   "metadata": {},
   "source": [
    "#### Regular Grammar Definition "
   ]
  },
  {
   "cell_type": "markdown",
   "metadata": {},
   "source": [
    "A <u>Grammar</u> is defined as G = (N, E, P, S) where:\n",
    "    \n",
    "    N = set of non-terminals\n",
    "    E = set of terminals\n",
    "    P = set of productions\n",
    "    S = starting symbol \n"
   ]
  },
  {
   "cell_type": "markdown",
   "metadata": {},
   "source": [
    "A <u>Grammar</u> can be considered to be a <u>Regular Grammar</u> if: \n",
    "\n",
    "1. productions are of the form: \n",
    "    * A -> a\n",
    "    * A -> aB\n",
    "2. if S -> ε then S does not appear on the RHS in any other production\n"
   ]
  },
  {
   "cell_type": "markdown",
   "metadata": {},
   "source": [
    "#### Finite Automara Definition"
   ]
  },
  {
   "cell_type": "markdown",
   "metadata": {},
   "source": [
    "A <u>Finite Automara</u> is defined as M = (Q, E, S, q0, F), where: \n",
    "    \n",
    "    Q = set of states\n",
    "    E = alphabet \n",
    "    S = transition function\n",
    "    q0 = initial state \n",
    "    F = set of final states\n",
    "    "
   ]
  },
  {
   "cell_type": "markdown",
   "metadata": {},
   "source": [
    "### Transformations"
   ]
  },
  {
   "cell_type": "markdown",
   "metadata": {},
   "source": [
    "#### Regular Grammar -> Finite Automata"
   ]
  },
  {
   "cell_type": "markdown",
   "metadata": {},
   "source": [
    "Left hand side presents Finite Automata and right hand side presentes Regular Grammar\n",
    "\n",
    "    Q = N ∪ {K}\n",
    "    E = E \n",
    "    S = transform(P) as: \n",
    "        A -> aB => S(A, a) = B\n",
    "        A -> a  => S(A, a) = K \n",
    "        S -> ε  => q0 ∈ F\n",
    "    F = {K} ∪ {q0 if S -> ε}"
   ]
  },
  {
   "cell_type": "markdown",
   "metadata": {},
   "source": [
    "#### Finite Automata -> Regular Grammar"
   ]
  },
  {
   "cell_type": "markdown",
   "metadata": {},
   "source": [
    "Left hand side presents Regular Grammar and right hand side presents Finite Automata\n",
    "\n",
    "    N = Q \n",
    "    E = E \n",
    "    S = q0 \n",
    "    P = transform(S) as: {\\displaystyle \\notin }\n",
    "        s(A, a) = B and q not in F => A -> aB\n",
    "        s(A, a) = B and q ∈ F => A -> aB | a "
   ]
  },
  {
   "cell_type": "markdown",
   "metadata": {},
   "source": [
    "# Grammer"
   ]
  },
  {
   "cell_type": "code",
   "execution_count": null,
   "metadata": {},
   "outputs": [],
   "source": [
    "class Grammar:\n",
    "    @staticmethod\n",
    "    def parseLine(line):\n",
    "        return [ value.strip() for value in line.strip().split('=')[1].strip()[1:-1].strip().split(',')]\n",
    "    \n",
    "    @staticmethod \n",
    "    def parseConsole(line):\n",
    "        return [ value.strip() for value in line.strip()[1:-1].strip().split(',')]\n",
    "    \n",
    "    @staticmethod\n",
    "    def fromFile(fileName):\n",
    "        with open(fileName) as file: \n",
    "            N = Grammar.parseLine(file.readline())\n",
    "            E = Grammar.parseLine(file.readline())\n",
    "            S = file.readline().split('=')[1].strip()\n",
    "            P = Grammar.parseRules(Grammar.parseLine(''.join([line for line in file])))\n",
    "            \n",
    "            return Grammar(N, E, P, S)\n",
    "        \n",
    "    @staticmethod \n",
    "    def fromConsole():\n",
    "        N = Grammar.parseConsole(input('N = '))\n",
    "        E = Grammar.parseConsole(input('E = '))\n",
    "        S = input('S = ')\n",
    "        P = Grammar.parseRules(Grammar.parseConsole(input('P = ')))\n",
    "\n",
    "        return Grammar(N, E, P, S)\n",
    "        \n",
    "    @staticmethod        \n",
    "    def parseRules(rules):\n",
    "        result = []\n",
    "        \n",
    "        for rule in rules:\n",
    "            lhs, rhs = rule.split('->')\n",
    "            lhs = lhs.strip()\n",
    "            rhs = [ value.strip() for value in rhs.split('|')]\n",
    "            \n",
    "            for value in rhs: \n",
    "                result.append((lhs, value))\n",
    "        \n",
    "        return result \n",
    "    \n",
    "    @staticmethod\n",
    "    def fromFiniteAutomata(fa):\n",
    "        N = fa.Q\n",
    "        E = fa.E \n",
    "        S = fa.q0\n",
    "        P = []\n",
    "        \n",
    "        for transition in fa.S: \n",
    "            lhs, state2 = transition\n",
    "            state1, route = lhs\n",
    "            \n",
    "            P.append((state1, route + state2))\n",
    "            \n",
    "            if state2 in fa.F: \n",
    "                P.append((state1, route))\n",
    "                \n",
    "        return Grammar(N, E, P, S)\n",
    "    \n",
    "    def __init__(self, N, E, P, S):\n",
    "        self.N = N \n",
    "        self.E = E\n",
    "        self.P = P\n",
    "        self.S = S\n",
    "        \n",
    "    def isNonTerminal(self, value):\n",
    "        return value in self.N\n",
    "    \n",
    "    def isTerminal(self, value):\n",
    "        return value in self.E \n",
    "    \n",
    "    def isRegular(self):\n",
    "        usedInRhs = dict() \n",
    "        notAllowedInRhs = list() \n",
    "        \n",
    "        for rule in self.P: \n",
    "            lhs, rhs = rule\n",
    "            hasTerminal = False \n",
    "            hasNonTerminal = False\n",
    "            for char in rhs: \n",
    "                if self.isNonTerminal(char): \n",
    "                    usedInRhs[char] = True\n",
    "                    hasNonTerminal = True\n",
    "                elif self.isTerminal(char): \n",
    "                    if hasNonTerminal: \n",
    "                        return False\n",
    "                    hasTerminal = True \n",
    "                if char == 'E': \n",
    "                    notAllowedInRhs.append(lhs)\n",
    "                    \n",
    "            if hasNonTerminal and not hasTerminal: \n",
    "                return False\n",
    "        \n",
    "        for char in notAllowedInRhs: \n",
    "            if char in usedInRhs: \n",
    "                return False \n",
    "            \n",
    "        return True\n",
    "    \n",
    "    def getProductionsFor(self, nonTerminal): \n",
    "        if not self.isNonTerminal(nonTerminal):\n",
    "            raise Exception('Can only show productions for non-terminals')\n",
    "            \n",
    "        return [ prod for prod in self.P if prod[0] == nonTerminal ]\n",
    "    \n",
    "    def showProductionsFor(self, nonTerminal):\n",
    "        productions = self.getProductionsFor(nonTerminal)\n",
    "        \n",
    "        print(', '.join([' -> '.join(prod) for prod in productions]))\n",
    "        \n",
    "    def __str__(self):\n",
    "        return 'N = { ' + ', '.join(self.N) + ' }\\n' \\\n",
    "             + 'E = { ' + ', '.join(self.E) + ' }\\n' \\\n",
    "             + 'P = { ' + ', '.join([' -> '.join(prod) for prod in self.P]) + ' }\\n' \\\n",
    "             + 'S = ' + str(self.S) + '\\n' "
   ]
  },
  {
   "cell_type": "markdown",
   "metadata": {},
   "source": [
    "### Grammar usage"
   ]
  },
  {
   "cell_type": "markdown",
   "metadata": {},
   "source": [
    "We read the grammar from file 'rg1.txt'"
   ]
  },
  {
   "cell_type": "code",
   "execution_count": null,
   "metadata": {},
   "outputs": [],
   "source": [
    "grammar = Grammar.fromFile('rg1.txt') \n",
    "print(grammar)"
   ]
  },
  {
   "cell_type": "markdown",
   "metadata": {},
   "source": [
    "We print the productions for a given non-terminal, A in this case"
   ]
  },
  {
   "cell_type": "code",
   "execution_count": null,
   "metadata": {},
   "outputs": [],
   "source": [
    "try:\n",
    "    grammar.showProductionsFor('A')\n",
    "except Exception as e:\n",
    "    print(e)"
   ]
  },
  {
   "cell_type": "markdown",
   "metadata": {},
   "source": [
    "We can also read from the console if we'd like, just make sure that the format of the input is the same as in this example\n",
    "\n",
    "> N = { S, A, B } \n",
    ">\n",
    "> E = { a, b, c } \n",
    "> \n",
    "> S = S \n",
    ">\n",
    "> P = { S -> aA | bB | E, A -> aA | cB, B -> c }"
   ]
  },
  {
   "cell_type": "code",
   "execution_count": null,
   "metadata": {},
   "outputs": [],
   "source": [
    "grammar = Grammar.fromConsole()\n",
    "print('\\n' + str(grammar))"
   ]
  },
  {
   "cell_type": "markdown",
   "metadata": {},
   "source": [
    "# Finite Automata"
   ]
  },
  {
   "cell_type": "code",
   "execution_count": null,
   "metadata": {},
   "outputs": [],
   "source": [
    "class FiniteAutomata: \n",
    "    @staticmethod\n",
    "    def parseLine(line):\n",
    "        return [ value.strip() for value in line.strip().split('=')[1].strip()[1:-1].strip().split(',')]\n",
    "    \n",
    "    @staticmethod\n",
    "    def parseConsole(line):\n",
    "        return [ value.strip() for value in line.strip()[1:-1].strip().split(',')]\n",
    "    \n",
    "    @staticmethod\n",
    "    def fromFile(fileName):\n",
    "        with open(fileName) as file: \n",
    "            Q = FiniteAutomata.parseLine(file.readline())\n",
    "            E = FiniteAutomata.parseLine(file.readline())\n",
    "            q0 = file.readline().split('=')[1].strip()            \n",
    "            F = FiniteAutomata.parseLine(file.readline())\n",
    "            \n",
    "            S = FiniteAutomata.parseTransitions(FiniteAutomata.parseLine(''.join([line for line in file])))\n",
    "            \n",
    "            return FiniteAutomata(Q, E, S, q0, F)\n",
    "        \n",
    "    @staticmethod\n",
    "    def fromConsole():\n",
    "        Q = FiniteAutomata.parseConsole(input('Q = '))\n",
    "        E = FiniteAutomata.parseConsole(input('E = '))\n",
    "        q0 = input('q0 = ')          \n",
    "        F = FiniteAutomata.parseConsole(input('F = '))\n",
    "\n",
    "        S = FiniteAutomata.parseTransitions(FiniteAutomata.parseConsole(input('S = ')))\n",
    "\n",
    "        return FiniteAutomata(Q, E, S, q0, F)\n",
    "\n",
    "    @staticmethod\n",
    "    def parseTransitions(parts):\n",
    "        result = []\n",
    "        transitions = []\n",
    "        index = 0 \n",
    "        \n",
    "        while index < len(parts): \n",
    "            transitions.append(parts[index] + ',' + parts[index + 1])\n",
    "            index += 2\n",
    "            \n",
    "        for transition in transitions:\n",
    "            lhs, rhs = transition.split('->')\n",
    "            state2 = rhs.strip()\n",
    "            state1, route = [ value.strip() for value in lhs.strip()[1:-1].split(',') ]\n",
    "            \n",
    "            result.append(((state1, route), state2))\n",
    "        \n",
    "        return result \n",
    "    \n",
    "    @staticmethod\n",
    "    def fromRegularGrammar(rg):\n",
    "        Q = rg.N + ['K']\n",
    "        E = rg.E\n",
    "        q0 = rg.S\n",
    "        F = ['K']\n",
    "        \n",
    "        S = [] \n",
    "        \n",
    "        for production in rg.P: \n",
    "            state2 = 'K'\n",
    "            state1, rhs = production\n",
    "            if state1 == q0 and rhs[0] == 'E': \n",
    "                F.append(q0)\n",
    "                continue \n",
    "                \n",
    "            route = rhs[0]\n",
    "            \n",
    "            if len(rhs) == 2: \n",
    "                state2 = rhs[1]\n",
    "            \n",
    "            S.append(((state1, route), state2))\n",
    "            \n",
    "        return FiniteAutomata(Q, E, S, q0, F)\n",
    "    \n",
    "    def __init__(self, Q, E, S, q0, F):\n",
    "        self.Q = Q\n",
    "        self.E = E\n",
    "        self.S = S\n",
    "        self.q0 = q0\n",
    "        self.F = F\n",
    "    \n",
    "    def isState(self, value):\n",
    "        return value in self.Q\n",
    "    \n",
    "    def getTransitionsFor(self, state):\n",
    "        if not self.isState(state):\n",
    "                raise Exception('Can only get transitions for states')\n",
    "                \n",
    "        return [ trans for trans in self.S if trans[0][0] == state]\n",
    "            \n",
    "    def showTransitionsFor(self, state):\n",
    "        transitions = self.getTransitionsFor(state)\n",
    "        \n",
    "        print('{ ' + ' '.join([' -> '.join([str(part) for part in trans]) for trans in transitions]) + ' }')\n",
    "        \n",
    "    def __str__(self):\n",
    "        return 'Q = { ' + ', '.join(self.Q) + ' }\\n' \\\n",
    "             + 'E = { ' + ', '.join(self.E) + ' }\\n' \\\n",
    "             + 'F = { ' + ', '.join(self.F) + ' }\\n' \\\n",
    "             + 'S = { ' + ', '.join([' -> '.join([str(part) for part in trans]) for trans in self.S]) + ' }\\n' \\\n",
    "             + 'q0 = ' + str(self.q0) + '\\n' "
   ]
  },
  {
   "cell_type": "markdown",
   "metadata": {},
   "source": [
    "## Finite Automata usage"
   ]
  },
  {
   "cell_type": "markdown",
   "metadata": {},
   "source": [
    "We read the Finite Automata from the file 'fa1.txt'"
   ]
  },
  {
   "cell_type": "code",
   "execution_count": null,
   "metadata": {},
   "outputs": [],
   "source": [
    "finiteAutomata = FiniteAutomata.fromFile('fa1.txt')\n",
    "print(finiteAutomata)"
   ]
  },
  {
   "cell_type": "markdown",
   "metadata": {},
   "source": [
    "We print the transifions for a given state, A in our case"
   ]
  },
  {
   "cell_type": "code",
   "execution_count": null,
   "metadata": {},
   "outputs": [],
   "source": [
    "try:\n",
    "    fa.showTransitionsFor('A')\n",
    "except Exception as e:\n",
    "    print('Exception: ' + str(e))"
   ]
  },
  {
   "cell_type": "markdown",
   "metadata": {},
   "source": [
    "We can also read from the console if we'd like, just make sure that the format of the input is the same as in this example\n",
    "\n",
    "> Q = { A, B, C } \n",
    ">\n",
    "> E = { a, b, c } \n",
    ">\n",
    "> q0 = A \n",
    ">\n",
    "> F = { C } \n",
    ">\n",
    "> S = { (A, c) -> C,  (A, b) -> B,  (B, a) -> C }"
   ]
  },
  {
   "cell_type": "code",
   "execution_count": null,
   "metadata": {},
   "outputs": [],
   "source": [
    "finiteAutomata = FiniteAutomata.fromConsole()\n",
    "print('\\n' + str(finitaAutomata))"
   ]
  },
  {
   "cell_type": "markdown",
   "metadata": {},
   "source": [
    "## Transformations"
   ]
  },
  {
   "cell_type": "markdown",
   "metadata": {},
   "source": [
    "Regular Grammar -> Finite Automata"
   ]
  },
  {
   "cell_type": "code",
   "execution_count": null,
   "metadata": {},
   "outputs": [],
   "source": [
    "grammar = Grammar.fromFile('rg1.txt')\n",
    "\n",
    "if (grammar.isRegular()):\n",
    "    finiteAutomata = FiniteAutomata.fromRegularGrammar(grammar)\n",
    "    print(finiteAutomata)"
   ]
  },
  {
   "cell_type": "markdown",
   "metadata": {},
   "source": [
    "Finite Automata -> Regular Grammar"
   ]
  },
  {
   "cell_type": "code",
   "execution_count": null,
   "metadata": {},
   "outputs": [],
   "source": [
    "finiteAutomata = FiniteAutomata.fromFile('fa1.txt')\n",
    "grammar = Grammar.fromFiniteAutomata(finiteAutomata)\n",
    "\n",
    "print(grammar)"
   ]
  }
 ],
 "metadata": {
  "kernelspec": {
   "display_name": "Python 3",
   "language": "python",
   "name": "python3"
  },
  "language_info": {
   "codemirror_mode": {
    "name": "ipython",
    "version": 3
   },
   "file_extension": ".py",
   "mimetype": "text/x-python",
   "name": "python",
   "nbconvert_exporter": "python",
   "pygments_lexer": "ipython3",
   "version": "3.6.4"
  }
 },
 "nbformat": 4,
 "nbformat_minor": 2
}
