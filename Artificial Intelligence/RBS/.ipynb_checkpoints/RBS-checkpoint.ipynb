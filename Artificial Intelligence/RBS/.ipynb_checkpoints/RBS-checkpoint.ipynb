{
 "cells": [
  {
   "cell_type": "code",
   "execution_count": 33,
   "metadata": {},
   "outputs": [],
   "source": [
    "import numpy as np"
   ]
  },
  {
   "cell_type": "code",
   "execution_count": 46,
   "metadata": {},
   "outputs": [],
   "source": [
    "class FuzzyVariable:\n",
    "    def __init__(self):\n",
    "        self.labels = {}\n",
    "        self.value = 0\n",
    "\n",
    "    def toDiscrete(self):\n",
    "        ret = {}\n",
    "        graph = self.labels\n",
    "        value = self.value\n",
    "        for key in graph.keys():\n",
    "            for i in range(len(graph[key]) - 1):\n",
    "                if (graph[key][i][0] <= value and value <= graph[key][i + 1][0]):\n",
    "                    if (graph[key][i][0] == -np.inf):\n",
    "                        ret[key] = graph[key][i][1]\n",
    "                        continue\n",
    "                    if (graph[key][i + 1][0] == np.inf):\n",
    "                        ret[key] = graph[key][i + 1][1]\n",
    "                        continue\n",
    "                    deltaY = graph[key][i + 1][1] - graph[key][i][1]\n",
    "                    deltaX = graph[key][i + 1][0] - graph[key][i][0]\n",
    "                    ret[key] = graph[key][i][1] + ((value - graph[key][i][0]) / deltaX) * deltaY\n",
    "        return ret"
   ]
  },
  {
   "cell_type": "code",
   "execution_count": 47,
   "metadata": {},
   "outputs": [],
   "source": [
    "class Texture(FuzzyVariable):\n",
    "    def __init__(self, value):\n",
    "        self.value = value\n",
    "        self.labels = {\n",
    "            'very soft': [(-np.inf, 1.0), (0.2, 1.0), (0.4, 0), (np.inf, 0.0)],\n",
    "            'soft': [(-np.inf, 0.0), (0.2, 0.0), (0.4, 1.0), (0.8, 0.0), (np.inf, 0.0)],\n",
    "            'normal': [(-np.inf, 0.0), (0.3, 0.0), (0.7, 1.0), (0.9, 0.0), (np.inf, 0.0)],\n",
    "            'resistant': [(-np.inf, 0.0), (0.7, 0.0), (0.9, 1.0), (np.inf, 1.0) ]\n",
    "        }"
   ]
  },
  {
   "cell_type": "code",
   "execution_count": 48,
   "metadata": {},
   "outputs": [],
   "source": [
    "class Capacity(FuzzyVariable):\n",
    "    def __init__(self, value):\n",
    "        self.value = value\n",
    "        self.labels = {\n",
    "            'small': [(-np.inf, 1.0), (1.0, 1.0), (2.0, 0.0), (np.inf, 0.0)],\n",
    "            'medium': [(-np.inf, 0.0), (2.5, 1.0), (4.0, 0.0), (np.inf, 0.0)],\n",
    "            'high': [(-np.inf, 0.0), (3.0, 0.0), (4.0, 1.0), (np.inf, 1.0)]\n",
    "        }"
   ]
  },
  {
   "cell_type": "code",
   "execution_count": 49,
   "metadata": {
    "scrolled": true
   },
   "outputs": [
    {
     "data": {
      "text/plain": [
       "{'high': 1.0, 'medium': 0.0, 'small': 0.0}"
      ]
     },
     "execution_count": 49,
     "metadata": {},
     "output_type": "execute_result"
    }
   ],
   "source": [
    "# a = Texture(0.4)\n",
    "# a.toDiscrete()\n",
    "\n",
    "b = Capacity(4.0)\n",
    "b.toDiscrete()"
   ]
  },
  {
   "cell_type": "code",
   "execution_count": 50,
   "metadata": {},
   "outputs": [],
   "source": [
    "class CycleType(FuzzyVariable):\n",
    "    def __init__(self, value):\n",
    "        self.value = value\n",
    "        self.labels = {\n",
    "            'delicate' : [(-np.inf, 1.0), (0.2, 1.0), (0.4, 1.0), (np.inf, 0.0)],\n",
    "            'easy' : [(-np.inf, 0.0), (0.5, 1.0), (0.8, 0.0), (np.inf, 0.0)],\n",
    "            'normal': [(-np.inf, 0.0),(0.3, 0.0), (0.6, 1.0), (0.9, 0.0), (np.inf, 0.0)],\n",
    "            'intense': [(-np.inf, 0.0), (0.7, 0.0), (0.9, 1.0), (np.inf, 1.0)]\n",
    "        }"
   ]
  },
  {
   "cell_type": "code",
   "execution_count": 51,
   "metadata": {},
   "outputs": [],
   "source": [
    "class Ruler:\n",
    "    def __init__(self):\n",
    "        self.rules = {\n",
    "           'very soft': {\n",
    "                'small': 'delicate',\n",
    "                'medium': 'easy',\n",
    "                'high': 'normal'\n",
    "            },\n",
    "            'soft': {\n",
    "                'small': 'easy',\n",
    "                'medium': 'normal',\n",
    "                'high': 'normal'\n",
    "            },\n",
    "            'normal': {\n",
    "                'small': 'easy',\n",
    "                'medium': 'normal',\n",
    "                'high': 'intense'\n",
    "            },\n",
    "            'resistant': {\n",
    "                'small': 'easy',\n",
    "                'medium': 'normal',\n",
    "                'high': 'intense'\n",
    "            }\n",
    "        }\n",
    "        \n",
    "    def evaluate(self, t, c):\n",
    "        txtDiscrete = t.toDiscrete()\n",
    "        capDiscrete = c.toDiscrete()\n",
    "        resDisc = {}\n",
    "        print(txtDiscrete)\n",
    "        print(capDiscrete)\n",
    "        for tKey, tValue in txtDiscrete.items():\n",
    "            for cKey, cValue in capDiscrete.items():\n",
    "                res = self.rules[tKey][cKey]\n",
    "                val = min(tValue, cValue)\n",
    "                if res in resDisc:\n",
    "                    resDisc[res] = max(resDisc[res], val)\n",
    "                else:\n",
    "                    resDisc[res] = val\n",
    "        return resDisc"
   ]
  },
  {
   "cell_type": "code",
   "execution_count": 58,
   "metadata": {},
   "outputs": [],
   "source": [
    "class Controller:\n",
    "    def __init__(self, texture, capacity):\n",
    "        self.rules = Ruler()\n",
    "        self.txt = Texture(texture)\n",
    "        self.cap = Capacity(capacity)\n",
    "\n",
    "    def solve(self):\n",
    "        agg = self.rules.evaluate(self.txt, self.cap)\n",
    "        print(sorted(list(agg.items()), key = lambda x: x[1])[-1][0])"
   ]
  },
  {
   "cell_type": "code",
   "execution_count": 57,
   "metadata": {},
   "outputs": [
    {
     "name": "stdout",
     "output_type": "stream",
     "text": [
      "{'very soft': 1.0, 'soft': 0.0, 'normal': 0.0, 'resistant': 0.0}\n",
      "{'small': 1.0, 'medium': 0.0, 'high': 0.0}\n",
      "delicate\n"
     ]
    }
   ],
   "source": [
    "c = Controller(0.2, 0.5)\n",
    "c.solve()"
   ]
  },
  {
   "cell_type": "code",
   "execution_count": null,
   "metadata": {},
   "outputs": [],
   "source": []
  }
 ],
 "metadata": {
  "kernelspec": {
   "display_name": "Python 3",
   "language": "python",
   "name": "python3"
  },
  "language_info": {
   "codemirror_mode": {
    "name": "ipython",
    "version": 3
   },
   "file_extension": ".py",
   "mimetype": "text/x-python",
   "name": "python",
   "nbconvert_exporter": "python",
   "pygments_lexer": "ipython3",
   "version": "3.6.4"
  }
 },
 "nbformat": 4,
 "nbformat_minor": 2
}
